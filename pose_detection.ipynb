{
 "cells": [
  {
   "cell_type": "markdown",
   "id": "6b4a670f-c732-43fd-b397-b94842580375",
   "metadata": {},
   "source": [
    "## Import Liberares"
   ]
  },
  {
   "cell_type": "code",
   "execution_count": 4,
   "id": "42026809-ec68-4d2b-88a9-5416d96cc073",
   "metadata": {},
   "outputs": [],
   "source": [
    "import cv2\n",
    "import numpy as np\n",
    "import mediapipe as mp\n",
    "from scipy.signal import butter, filtfilt\n",
    "from mediapipe.python.solutions.pose import POSE_CONNECTIONS"
   ]
  },
  {
   "cell_type": "markdown",
   "id": "58591021-d918-41d7-ab3e-001131bc0255",
   "metadata": {},
   "source": [
    "## Butterworth filter functions\n",
    "\n",
    "Here we use **Butterworth filters** via Scipy library. [signal.butter](https://docs.scipy.org/doc/scipy/reference/generated/scipy.signal.butter.html) is a function provided by the [scipy.signal](https://docs.scipy.org/doc/scipy/reference/signal.html) module in Python. It is used to design digital Butterworth filters, which are a type of infinite impulse response (IIR) filter commonly used for signal processing tasks, including filtering EEG signals. The Butterworth filter is characterized by having a flat frequency response in its passband and a gradual roll-off in its stopband."
   ]
  },
  {
   "cell_type": "code",
   "execution_count": 5,
   "id": "46997069-9ccb-4807-b932-3bb832eaf73f",
   "metadata": {},
   "outputs": [],
   "source": [
    "def butter_lowpass(cutoff, fs, order=2):\n",
    "    nyq = 0.5 * fs\n",
    "    normal_cutoff = cutoff / nyq   # normalized cutoff frequency\n",
    "    b, a = butter(order, normal_cutoff, btype = \"low\", analog = False)\n",
    "    return b, a\n",
    "\n",
    "\n",
    "def butter_lowpass_filter(data, cutoff, fs, order=2):\n",
    "    b, a = butter_lowpass(cutoff, fs, order=order)\n",
    "    return filtfilt(b, a, data)\n",
    "    "
   ]
  },
  {
   "cell_type": "code",
   "execution_count": 9,
   "id": "691714cb-e5c7-4d24-8f80-a94cfa980d93",
   "metadata": {},
   "outputs": [],
   "source": [
    "cap = cv2.VideoCapture(\"yoga_pose.mp4\")\n",
    "\n",
    "with media_pose.Pose(model_complexity=1, min_detection_confidence=0.5, min_tracking_confidence=0.5) as pose:\n",
    "    while cap.isOpened():\n",
    "        success, img = cap.read()\n",
    "        if not success:\n",
    "            break\n",
    "\n",
    "        img = cv2.resize(img, (800, 600))\n",
    "        img_rgb = cv2.cvtColor(img, cv2.COLOR_BGR2RGB)\n",
    "        results = pose.process(img_rgb)\n",
    "\n",
    "    \n",
    "        if results.pose_landmarks:\n",
    "            media_draw.draw_landmarks(img, results.pose_landmarks, media_pose.POSE_CONNECTIONS,\n",
    "                                      media_draw.DrawingSpec(color=(0, 0, 255), thickness=2, circle_radius=3),\n",
    "                                      media_draw.DrawingSpec(color=(0, 255, 0), thickness=2, circle_radius=3))\n",
    "\n",
    "        cv2.imshow('Pose', img)\n",
    "\n",
    "        if cv2.waitKey(1) & 0xFF == ord('q'):\n",
    "            break\n",
    "\n",
    "cap.release()\n",
    "cv2.destroyAllWindows()"
   ]
  },
  {
   "cell_type": "code",
   "execution_count": null,
   "id": "92851221-08eb-4b0a-9349-b365a56eb0f5",
   "metadata": {},
   "outputs": [],
   "source": []
  }
 ],
 "metadata": {
  "kernelspec": {
   "display_name": "Python 3 (ipykernel)",
   "language": "python",
   "name": "python3"
  },
  "language_info": {
   "codemirror_mode": {
    "name": "ipython",
    "version": 3
   },
   "file_extension": ".py",
   "mimetype": "text/x-python",
   "name": "python",
   "nbconvert_exporter": "python",
   "pygments_lexer": "ipython3",
   "version": "3.11.9"
  }
 },
 "nbformat": 4,
 "nbformat_minor": 5
}
