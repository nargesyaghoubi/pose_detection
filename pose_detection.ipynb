{
 "cells": [
  {
   "cell_type": "markdown",
   "id": "6b4a670f-c732-43fd-b397-b94842580375",
   "metadata": {},
   "source": [
    "## Import Libraries"
   ]
  },
  {
   "cell_type": "code",
   "execution_count": 4,
   "id": "42026809-ec68-4d2b-88a9-5416d96cc073",
   "metadata": {},
   "outputs": [],
   "source": [
    "import cv2\n",
    "import numpy as np\n",
    "import mediapipe as mp\n",
    "from scipy.signal import butter, filtfilt\n",
    "from mediapipe.python.solutions.pose import POSE_CONNECTIONS"
   ]
  },
  {
   "cell_type": "markdown",
   "id": "58591021-d918-41d7-ab3e-001131bc0255",
   "metadata": {},
   "source": [
    "## Butterworth filter functions\n",
    "\n",
    "Here we use **Butterworth filters** via Scipy library. [signal.butter](https://docs.scipy.org/doc/scipy/reference/generated/scipy.signal.butter.html) is a function provided by the [scipy.signal](https://docs.scipy.org/doc/scipy/reference/signal.html) module in Python. It is used to design digital Butterworth filters, which are a type of infinite impulse response (IIR) filter commonly used for signal processing tasks, including filtering EEG signals. The Butterworth filter is characterized by having a flat frequency response in its passband and a gradual roll-off in its stopband."
   ]
  },
  {
   "cell_type": "code",
   "execution_count": 1,
   "id": "46997069-9ccb-4807-b932-3bb832eaf73f",
   "metadata": {},
   "outputs": [],
   "source": [
    "def butter_lowpass(cutoff, fs, order=2):\n",
    "    nyq = 0.5 * fs\n",
    "    normal_cutoff = cutoff / nyq   # normalized cutoff frequency\n",
    "    b, a = butter(order, normal_cutoff, btype = \"low\", analog = False)\n",
    "    return b, a\n",
    "\n",
    "\n",
    "def butter_lowpass_filter(data, cutoff, fs, order=2):\n",
    "    b, a = butter_lowpass(cutoff, fs, order=order)\n",
    "    return filtfilt(b, a, data)\n",
    "    "
   ]
  },
  {
   "cell_type": "markdown",
   "id": "44e98307-0d29-43c7-9ff6-112b815edb40",
   "metadata": {},
   "source": [
    "## Kalman filter function\n",
    "Here we use a simple 1D **Kalman Filter** implemented in Python. The KalmanFilter1D class models the process and measurement uncertainties and continuously updates its estimate as new data arrives. The Kalman Filter is an optimal recursive algorithm that combines prior predictions with new noisy measurements to produce a more accurate estimate of the true value. It is widely used in signal processing, control systems, and sensor fusion due to its ability to reduce noise and track system states over time.\n",
    "\n",
    "### Kalman Filter 1D - Key Formulas\n",
    "\n",
    "#### 1. Prior (Prediction) Estimate\n",
    "The prior (predicted) estimate is the prediction of the current state before seeing the measurement:\n",
    "\n",
    "$$\n",
    "x_{\\text{prior}} = x_{\\text{posteri}}\n",
    "$$\n",
    "\n",
    "#### 2. Prior Error Estimate\n",
    "The uncertainty of the prior estimate increases due to process noise:\n",
    "\n",
    "$$\n",
    "P_{\\text{prior}} = P_{\\text{posteri}} + Q\n",
    "$$\n",
    "\n",
    "Where:  \n",
    "- P_prior is the predicted (prior) error estimate  \n",
    "- P_posteri is the previous posterior error estimate  \n",
    "- Q is the process noise variance\n",
    "\n",
    "#### 3. Kalman Gain\n",
    "The Kalman Gain determines how much we trust the measurement vs. the prediction:\n",
    "\n",
    "$$\n",
    "K = \\frac{P_{\\text{prior}}}{P_{\\text{prior}} + R}\n",
    "$$\n",
    "\n",
    "Where:  \n",
    "- K is the Kalman Gain  \n",
    "- R is the measurement noise variance\n",
    "\n",
    "#### 4. Posterior (Updated) Estimate\n",
    "Update the estimate with the new measurement:\n",
    "\n",
    "$$\n",
    "x_{\\text{posteri}} = x_{\\text{prior}} + K \\cdot (z - x_{\\text{prior}})\n",
    "$$\n",
    "\n",
    "Where:  \n",
    "- x_posteri is the updated (posterior) estimate  \n",
    "- z is the new measurement\n",
    "\n",
    "#### 5. Posterior Error Estimate\n",
    "Update the error covariance after measurement:\n",
    "\n",
    "$$\n",
    "P_{\\text{posteri}} = (1 - K) \\cdot P_{\\text{prior}}\n",
    "$$\n",
    "\n",
    "Where:  \n",
    "- P_posteri is the updated error estimate\n",
    "\n"
   ]
  },
  {
   "cell_type": "code",
   "execution_count": 1,
   "id": "c7f3adca-a183-41c2-85f6-f2418422fd89",
   "metadata": {},
   "outputs": [],
   "source": [
    "class KalmanFilter1D:\n",
    "    def __init__(self, process_variance=0.001, measurement_variance=0.01):\n",
    "        self.process_variance = process_variance\n",
    "        self.measurement_variance = measurement_variance\n",
    "        self.posteri_estimate = 0.0\n",
    "        self.posteri_error_estimate = 1.0\n",
    "\n",
    "    def update(self, measurement):\n",
    "        priori_estimate = self.posteri_estimate\n",
    "        priori_error_estimate = self.posteri_error_estimate + self.process_variance\n",
    "        blending_factor = priori_error_estimate / (priori_error_estimate + self.measurement_variance)\n",
    "        self.posteri_estimate = priori_estimate + blending_factor * (measurement - priori_estimate)\n",
    "        self.posteri_error_estimate = (1 - blending_factor) * priori_error_estimate\n",
    "        return self.posteri_estimate"
   ]
  },
  {
   "cell_type": "markdown",
   "id": "3f74ff69-da4e-443d-a69a-67add0610ebd",
   "metadata": {},
   "source": [
    "## 4. Load MediaPipe Pose Model\n",
    "Initialize the MediaPipe Pose model for landmark detection."
   ]
  },
  {
   "cell_type": "code",
   "execution_count": null,
   "id": "f55ae9e5-339c-4959-b023-100a647884ba",
   "metadata": {},
   "outputs": [],
   "source": [
    "mp_pose = mp.solutions.pose\n",
    "pose = mp_pose.Pose()\n",
    "\n",
    "cap = cv2.VideoCapture(\"pose.mp4\")\n",
    "\n",
    "fps = cap.get(cv2.CAP_PROP_FPS)\n",
    "if fps == 0 or np.isnan(fps):\n",
    "    fps = 30\n",
    "\n",
    "width  = int(cap.get(cv2.CAP_PROP_FRAME_WIDTH))\n",
    "height = int(cap.get(cv2.CAP_PROP_FRAME_HEIGHT))\n",
    "\n",
    "out = cv2.VideoWriter(\"pose-result.mp4\", cv2.VideoWriter_fourcc(*'mp4v'), fps, (width, height))"
   ]
  },
  {
   "cell_type": "code",
   "execution_count": null,
   "id": "75e7ff60-787a-4886-8270-556dd8eaec97",
   "metadata": {},
   "outputs": [],
   "source": [
    "# Kalman filters\n",
    "\n",
    "kalman_filters_x = [KalmanFilter1D() for i in range(33)]\n",
    "kalman_filters_y = [KalmanFilter1D() for i in range(33)]\n",
    "\n",
    "frames_data = []\n",
    "last_valid_coords = [(0, 0)] * 33    # keep last valid coordinates for missing landmarks\n",
    "# collect coordinates\n",
    "while cap.isOpened():\n",
    "    ret, frame = cap.read()\n",
    "    if not ret:\n",
    "        break\n",
    "\n",
    "    rgb = cv2.cvtColor(frame, cv2.COLOR_BGR2RGB)\n",
    "    results = pose.process(rgb)\n",
    "\n",
    "    if results.pose_landmarks:\n",
    "        landmarks = results.pose_landmarks.landmark\n",
    "        coords = [(lm.x, lm.y) for lm in landmarks]\n",
    "        last_valid_coords = coords\n",
    "    else:\n",
    "        coords = last_valid_coords\n",
    "\n",
    "    frames_data.append(coords)\n",
    "\n",
    "cap.release()"
   ]
  },
  {
   "cell_type": "markdown",
   "id": "a20e0289-9b02-448c-81de-4050ff84921e",
   "metadata": {},
   "source": [
    "## Apply Butterworth Filtering\n",
    "Filter the landmark coordinate sequences to remove noise."
   ]
  },
  {
   "cell_type": "code",
   "execution_count": null,
   "id": "ed704411-a419-44b8-a0e4-e1cf273b0ce7",
   "metadata": {},
   "outputs": [],
   "source": [
    "# Apply Butterworth\n",
    "all_x = [[] for i in range(33)]\n",
    "all_y = [[] for i in range(33)]\n",
    "\n",
    "for i in range(33):\n",
    "    x_series = [f[i][0] for f in frames_data]\n",
    "    y_series = [f[i][1] for f in frames_data]\n",
    "\n",
    "    if len(x_series) > 9:\n",
    "        x_filtered = butter_lowpass_filter(x_series, cutoff=3, fs=fps)\n",
    "        y_filtered = butter_lowpass_filter(y_series, cutoff=3, fs=fps)\n",
    "    else:\n",
    "        x_filtered = x_series\n",
    "        y_filtered = y_series\n",
    "\n",
    "    all_x[i] = x_filtered\n",
    "    all_y[i] = y_filtered"
   ]
  },
  {
   "cell_type": "markdown",
   "id": "efaee358-6264-4900-9e42-4f6e86ad5b03",
   "metadata": {},
   "source": [
    "## Kalman Smoothing and Drawing\n",
    "Apply Kalman filter to the already low-pass filtered coordinates, draw points and connections on each frame, and save the output."
   ]
  },
  {
   "cell_type": "code",
   "execution_count": null,
   "id": "2399d754-0286-4383-abd4-3135e3507629",
   "metadata": {},
   "outputs": [],
   "source": [
    "# draw with Kalman smoothing\n",
    "cap = cv2.VideoCapture(\"pose.mp4\")\n",
    "frame_idx = 0\n",
    "while cap.isOpened():\n",
    "    ret, frame = cap.read()\n",
    "    if not ret:\n",
    "        break\n",
    "\n",
    "    for i in range(33):\n",
    "        kx = kalman_filters_x[i].update(all_x[i][frame_idx])\n",
    "        ky = kalman_filters_y[i].update(all_y[i][frame_idx])\n",
    "\n",
    "        cx = int(kx * width)\n",
    "        cy = int(ky * height)\n",
    "        cv2.circle(frame, (cx, cy), 4, (0, 255, 0), -1)\n",
    "    for connection in POSE_CONNECTIONS:\n",
    "        start_idx, end_idx = connection\n",
    "        start_x = int(all_x[start_idx][frame_idx] * width)\n",
    "        start_y = int(all_y[start_idx][frame_idx] * height)\n",
    "        end_x = int(all_x[end_idx][frame_idx] * width)\n",
    "        end_y = int(all_y[end_idx][frame_idx] * height)\n",
    "        cv2.line(frame, (start_x, start_y), (end_x, end_y), (0, 255, 255), 2)\n",
    "\n",
    "    out.write(frame)\n",
    "    frame_idx += 1\n",
    "\n",
    "cap.release()\n",
    "out.release()\n",
    "cv2.destroyAllWindows()"
   ]
  },
  {
   "cell_type": "code",
   "execution_count": null,
   "id": "6fb2f2d8-5b9d-4845-ae94-a8cd9056da25",
   "metadata": {},
   "outputs": [],
   "source": []
  },
  {
   "cell_type": "code",
   "execution_count": null,
   "id": "df8d6aaf-4327-42aa-8333-905170f046dc",
   "metadata": {},
   "outputs": [],
   "source": []
  }
 ],
 "metadata": {
  "kernelspec": {
   "display_name": "Python 3 (ipykernel)",
   "language": "python",
   "name": "python3"
  },
  "language_info": {
   "codemirror_mode": {
    "name": "ipython",
    "version": 3
   },
   "file_extension": ".py",
   "mimetype": "text/x-python",
   "name": "python",
   "nbconvert_exporter": "python",
   "pygments_lexer": "ipython3",
   "version": "3.11.9"
  }
 },
 "nbformat": 4,
 "nbformat_minor": 5
}
