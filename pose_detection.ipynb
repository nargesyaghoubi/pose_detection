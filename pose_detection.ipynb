{
 "cells": [
  {
   "cell_type": "code",
   "execution_count": 4,
   "id": "42026809-ec68-4d2b-88a9-5416d96cc073",
   "metadata": {},
   "outputs": [],
   "source": [
    "import numpy as np\n",
    "import cv2\n",
    "import mediapipe as mp"
   ]
  },
  {
   "cell_type": "code",
   "execution_count": 5,
   "id": "46997069-9ccb-4807-b932-3bb832eaf73f",
   "metadata": {},
   "outputs": [],
   "source": [
    "media_pose = mp.solutions.pose\n",
    "media_draw = mp.solutions.drawing_utils"
   ]
  },
  {
   "cell_type": "code",
   "execution_count": 9,
   "id": "691714cb-e5c7-4d24-8f80-a94cfa980d93",
   "metadata": {},
   "outputs": [],
   "source": [
    "cap = cv2.VideoCapture(\"yoga_pose.mp4\")\n",
    "\n",
    "with media_pose.Pose(model_complexity=1, min_detection_confidence=0.5, min_tracking_confidence=0.5) as pose:\n",
    "    while cap.isOpened():\n",
    "        success, img = cap.read()\n",
    "        if not success:\n",
    "            break\n",
    "\n",
    "        img = cv2.resize(img, (800, 600))\n",
    "        img_rgb = cv2.cvtColor(img, cv2.COLOR_BGR2RGB)\n",
    "        results = pose.process(img_rgb)\n",
    "\n",
    "    \n",
    "        if results.pose_landmarks:\n",
    "            media_draw.draw_landmarks(img, results.pose_landmarks, media_pose.POSE_CONNECTIONS,\n",
    "                                      media_draw.DrawingSpec(color=(0, 0, 255), thickness=2, circle_radius=3),\n",
    "                                      media_draw.DrawingSpec(color=(0, 255, 0), thickness=2, circle_radius=3))\n",
    "\n",
    "        cv2.imshow('Pose', img)\n",
    "\n",
    "        if cv2.waitKey(1) & 0xFF == ord('q'):\n",
    "            break\n",
    "\n",
    "cap.release()\n",
    "cv2.destroyAllWindows()"
   ]
  },
  {
   "cell_type": "code",
   "execution_count": null,
   "id": "92851221-08eb-4b0a-9349-b365a56eb0f5",
   "metadata": {},
   "outputs": [],
   "source": []
  }
 ],
 "metadata": {
  "kernelspec": {
   "display_name": "Python 3 (ipykernel)",
   "language": "python",
   "name": "python3"
  },
  "language_info": {
   "codemirror_mode": {
    "name": "ipython",
    "version": 3
   },
   "file_extension": ".py",
   "mimetype": "text/x-python",
   "name": "python",
   "nbconvert_exporter": "python",
   "pygments_lexer": "ipython3",
   "version": "3.11.9"
  }
 },
 "nbformat": 4,
 "nbformat_minor": 5
}
