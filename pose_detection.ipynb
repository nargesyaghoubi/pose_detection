{
 "cells": [
  {
   "cell_type": "code",
   "execution_count": 1,
   "id": "42026809-ec68-4d2b-88a9-5416d96cc073",
   "metadata": {},
   "outputs": [],
   "source": [
    "import numpy as np\n",
    "import cv2\n",
    "import mediapipe as mp"
   ]
  },
  {
   "cell_type": "code",
   "execution_count": 9,
   "id": "46997069-9ccb-4807-b932-3bb832eaf73f",
   "metadata": {},
   "outputs": [],
   "source": [
    "media_pose = mp.solutions.pose\n",
    "media_draw = mp.solutions.drawing_utils\n",
    "media_drawing_style = mp.solutions.drawing_styles\n",
    "pose = media_pose.Pose()"
   ]
  },
  {
   "cell_type": "code",
   "execution_count": null,
   "id": "691714cb-e5c7-4d24-8f80-a94cfa980d93",
   "metadata": {},
   "outputs": [],
   "source": [
    "cap = cv2.VideoCapture(\"pose.mp4\")"
   ]
  }
 ],
 "metadata": {
  "kernelspec": {
   "display_name": "Python 3 (ipykernel)",
   "language": "python",
   "name": "python3"
  },
  "language_info": {
   "codemirror_mode": {
    "name": "ipython",
    "version": 3
   },
   "file_extension": ".py",
   "mimetype": "text/x-python",
   "name": "python",
   "nbconvert_exporter": "python",
   "pygments_lexer": "ipython3",
   "version": "3.11.9"
  }
 },
 "nbformat": 4,
 "nbformat_minor": 5
}
