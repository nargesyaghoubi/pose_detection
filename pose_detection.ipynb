{
 "cells": [
  {
   "cell_type": "markdown",
   "id": "6b4a670f-c732-43fd-b397-b94842580375",
   "metadata": {},
   "source": [
    "## Import Liberares"
   ]
  },
  {
   "cell_type": "code",
   "execution_count": 4,
   "id": "42026809-ec68-4d2b-88a9-5416d96cc073",
   "metadata": {},
   "outputs": [],
   "source": [
    "import cv2\n",
    "import numpy as np\n",
    "import mediapipe as mp\n",
    "from scipy.signal import butter, filtfilt\n",
    "from mediapipe.python.solutions.pose import POSE_CONNECTIONS"
   ]
  },
  {
   "cell_type": "markdown",
   "id": "58591021-d918-41d7-ab3e-001131bc0255",
   "metadata": {},
   "source": [
    "## Butterworth filter functions\n",
    "\n",
    "Here we use **Butterworth filters** via Scipy library. [signal.butter](https://docs.scipy.org/doc/scipy/reference/generated/scipy.signal.butter.html) is a function provided by the [scipy.signal](https://docs.scipy.org/doc/scipy/reference/signal.html) module in Python. It is used to design digital Butterworth filters, which are a type of infinite impulse response (IIR) filter commonly used for signal processing tasks, including filtering EEG signals. The Butterworth filter is characterized by having a flat frequency response in its passband and a gradual roll-off in its stopband."
   ]
  },
  {
   "cell_type": "code",
   "execution_count": 1,
   "id": "46997069-9ccb-4807-b932-3bb832eaf73f",
   "metadata": {},
   "outputs": [],
   "source": [
    "def butter_lowpass(cutoff, fs, order=2):\n",
    "    nyq = 0.5 * fs\n",
    "    normal_cutoff = cutoff / nyq   # normalized cutoff frequency\n",
    "    b, a = butter(order, normal_cutoff, btype = \"low\", analog = False)\n",
    "    return b, a\n",
    "\n",
    "\n",
    "def butter_lowpass_filter(data, cutoff, fs, order=2):\n",
    "    b, a = butter_lowpass(cutoff, fs, order=order)\n",
    "    return filtfilt(b, a, data)\n",
    "    "
   ]
  },
  {
   "cell_type": "markdown",
   "id": "48552173-864a-4e7f-bdd7-91a6447f50f4",
   "metadata": {},
   "source": [
    "## 4. Load MediaPipe Pose Model\n"
   ]
  },
  {
   "cell_type": "code",
   "execution_count": null,
   "id": "92851221-08eb-4b0a-9349-b365a56eb0f5",
   "metadata": {},
   "outputs": [],
   "source": [
    "mp_pose = mp.solutions.pose\n",
    "pose = mp_pose.Pose()\n",
    "\n",
    "cap = cv2.VideoCapture(\"pose.mp4\")\n",
    "\n",
    "fps = cap.get(cv2.CAP_PROP_FPS)\n",
    "if fps == 0 or np.isnan(fps):\n",
    "    fps = 30\n",
    "\n",
    "width  = int(cap.get(cv2.CAP_PROP_FRAME_WIDTH))\n",
    "height = int(cap.get(cv2.CAP_PROP_FRAME_HEIGHT))\n",
    "\n",
    "out = cv2.VideoWriter(\"pose-result.mp4\", cv2.VideoWriter_fourcc(*'mp4v'), fps, (width, height))"
   ]
  }
 ],
 "metadata": {
  "kernelspec": {
   "display_name": "Python 3 (ipykernel)",
   "language": "python",
   "name": "python3"
  },
  "language_info": {
   "codemirror_mode": {
    "name": "ipython",
    "version": 3
   },
   "file_extension": ".py",
   "mimetype": "text/x-python",
   "name": "python",
   "nbconvert_exporter": "python",
   "pygments_lexer": "ipython3",
   "version": "3.11.9"
  }
 },
 "nbformat": 4,
 "nbformat_minor": 5
}
