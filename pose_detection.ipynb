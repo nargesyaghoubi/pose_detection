{
 "cells": [
  {
   "cell_type": "markdown",
   "id": "6b4a670f-c732-43fd-b397-b94842580375",
   "metadata": {},
   "source": [
    "## Import Liberares"
   ]
  },
  {
   "cell_type": "code",
   "execution_count": 4,
   "id": "42026809-ec68-4d2b-88a9-5416d96cc073",
   "metadata": {},
   "outputs": [],
   "source": [
    "import cv2\n",
    "import numpy as np\n",
    "import mediapipe as mp\n",
    "from scipy.signal import butter, filtfilt\n",
    "from mediapipe.python.solutions.pose import POSE_CONNECTIONS"
   ]
  },
  {
   "cell_type": "markdown",
   "id": "58591021-d918-41d7-ab3e-001131bc0255",
   "metadata": {},
   "source": [
    "## Butterworth filter functions\n",
    "\n",
    "Here we use **Butterworth filters** via Scipy library. [signal.butter](https://docs.scipy.org/doc/scipy/reference/generated/scipy.signal.butter.html) is a function provided by the [scipy.signal](https://docs.scipy.org/doc/scipy/reference/signal.html) module in Python. It is used to design digital Butterworth filters, which are a type of infinite impulse response (IIR) filter commonly used for signal processing tasks, including filtering EEG signals. The Butterworth filter is characterized by having a flat frequency response in its passband and a gradual roll-off in its stopband."
   ]
  },
  {
   "cell_type": "code",
   "execution_count": 1,
   "id": "46997069-9ccb-4807-b932-3bb832eaf73f",
   "metadata": {},
   "outputs": [],
   "source": [
    "def butter_lowpass(cutoff, fs, order=2):\n",
    "    nyq = 0.5 * fs\n",
    "    normal_cutoff = cutoff / nyq   # normalized cutoff frequency\n",
    "    b, a = butter(order, normal_cutoff, btype = \"low\", analog = False)\n",
    "    return b, a\n",
    "\n",
    "\n",
    "def butter_lowpass_filter(data, cutoff, fs, order=2):\n",
    "    b, a = butter_lowpass(cutoff, fs, order=order)\n",
    "    return filtfilt(b, a, data)\n",
    "    "
   ]
  },
  {
   "cell_type": "markdown",
   "id": "44e98307-0d29-43c7-9ff6-112b815edb40",
   "metadata": {},
   "source": [
    "## Kalman filter function\n",
    "Here we use a simple 1D **Kalman Filter** implemented in Python. The KalmanFilter1D class models the process and measurement uncertainties and continuously updates its estimate as new data arrives. The Kalman Filter is an optimal recursive algorithm that combines prior predictions with new noisy measurements to produce a more accurate estimate of the true value. It is widely used in signal processing, control systems, and sensor fusion due to its ability to reduce noise and track system states over time.\n",
    "\n",
    "### Kalman Filter 1D - Key Formulas\n",
    "\n",
    "#### 1. Prior (Prediction) Estimate\n",
    "The prior (predicted) estimate is the prediction of the current state before seeing the measurement:\n",
    "\n",
    "$$\n",
    "x_{\\text{prior}} = x_{\\text{posteri}}\n",
    "$$\n",
    "\n",
    "#### 2. Prior Error Estimate\n",
    "The uncertainty of the prior estimate increases due to process noise:\n",
    "\n",
    "$$\n",
    "P_{\\text{prior}} = P_{\\text{posteri}} + Q\n",
    "$$\n",
    "\n",
    "Where:  \n",
    "- P_prior is the predicted (prior) error estimate  \n",
    "- P_posteri is the previous posterior error estimate  \n",
    "- Q is the process noise variance\n",
    "\n",
    "#### 3. Kalman Gain\n",
    "The Kalman Gain determines how much we trust the measurement vs. the prediction:\n",
    "\n",
    "$$\n",
    "K = \\frac{P_{\\text{prior}}}{P_{\\text{prior}} + R}\n",
    "$$\n",
    "\n",
    "Where:  \n",
    "- K is the Kalman Gain  \n",
    "- R is the measurement noise variance\n",
    "\n",
    "#### 4. Posterior (Updated) Estimate\n",
    "Update the estimate with the new measurement:\n",
    "\n",
    "$$\n",
    "x_{\\text{posteri}} = x_{\\text{prior}} + K \\cdot (z - x_{\\text{prior}})\n",
    "$$\n",
    "\n",
    "Where:  \n",
    "- x_posteri is the updated (posterior) estimate  \n",
    "- z is the new measurement\n",
    "\n",
    "#### 5. Posterior Error Estimate\n",
    "Update the error covariance after measurement:\n",
    "\n",
    "$$\n",
    "P_{\\text{posteri}} = (1 - K) \\cdot P_{\\text{prior}}\n",
    "$$\n",
    "\n",
    "Where:  \n",
    "- P_posteri is the updated error estimate\n",
    "\n"
   ]
  },
  {
   "cell_type": "code",
   "execution_count": 1,
   "id": "c7f3adca-a183-41c2-85f6-f2418422fd89",
   "metadata": {},
   "outputs": [],
   "source": [
    "class KalmanFilter1D:\n",
    "    def __init__(self, process_variance=0.001, measurement_variance=0.01):\n",
    "        self.process_variance = process_variance\n",
    "        self.measurement_variance = measurement_variance\n",
    "        self.posteri_estimate = 0.0\n",
    "        self.posteri_error_estimate = 1.0\n",
    "\n",
    "    def update(self, measurement):\n",
    "        priori_estimate = self.posteri_estimate\n",
    "        priori_error_estimate = self.posteri_error_estimate + self.process_variance\n",
    "        blending_factor = priori_error_estimate / (priori_error_estimate + self.measurement_variance)\n",
    "        self.posteri_estimate = priori_estimate + blending_factor * (measurement - priori_estimate)\n",
    "        self.posteri_error_estimate = (1 - blending_factor) * priori_error_estimate\n",
    "        return self.posteri_estimate"
   ]
  },
  {
   "cell_type": "code",
   "execution_count": null,
   "id": "33e71ccd-8a07-4bcb-8f63-71d9676ce7b4",
   "metadata": {},
   "outputs": [],
   "source": []
  }
 ],
 "metadata": {
  "kernelspec": {
   "display_name": "Python 3 (ipykernel)",
   "language": "python",
   "name": "python3"
  },
  "language_info": {
   "codemirror_mode": {
    "name": "ipython",
    "version": 3
   },
   "file_extension": ".py",
   "mimetype": "text/x-python",
   "name": "python",
   "nbconvert_exporter": "python",
   "pygments_lexer": "ipython3",
   "version": "3.11.9"
  }
 },
 "nbformat": 4,
 "nbformat_minor": 5
}
