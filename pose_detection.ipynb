{
 "cells": [
  {
   "cell_type": "code",
   "execution_count": null,
   "id": "42026809-ec68-4d2b-88a9-5416d96cc073",
   "metadata": {},
   "outputs": [],
   "source": []
  }
 ],
 "metadata": {
  "kernelspec": {
   "display_name": "",
   "name": ""
  },
  "language_info": {
   "name": ""
  }
 },
 "nbformat": 4,
 "nbformat_minor": 5
}
